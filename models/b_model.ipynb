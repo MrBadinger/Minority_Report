{
 "metadata": {
  "language_info": {
   "codemirror_mode": {
    "name": "ipython",
    "version": 3
   },
   "file_extension": ".py",
   "mimetype": "text/x-python",
   "name": "python",
   "nbconvert_exporter": "python",
   "pygments_lexer": "ipython3",
   "version": "3.6.12-final"
  },
  "orig_nbformat": 2,
  "kernelspec": {
   "name": "python3",
   "display_name": "Python 3.6.12 64-bit",
   "metadata": {
    "interpreter": {
     "hash": "c9229c4222e9c2e882056fbfcc28508861c090f803a6fe3417bc998051bd922e"
    }
   }
  }
 },
 "nbformat": 4,
 "nbformat_minor": 2,
 "cells": [
  {
   "cell_type": "code",
   "execution_count": 1,
   "metadata": {},
   "outputs": [],
   "source": [
    "import pandas as pd\n",
    "# import numpy as np\n",
    "import matplotlib.pyplot as plt\n",
    "\n",
    "from sklearn.naive_bayes import MultinomialNB\n",
    "from sklearn.model_selection import train_test_split\n",
    "from sklearn.feature_extraction.text import CountVectorizer\n",
    "from sklearn.preprocessing import LabelEncoder, MinMaxScaler, StandardScaler\n",
    "from sklearn.metrics import classification_report"
   ]
  },
  {
   "cell_type": "code",
   "execution_count": 2,
   "metadata": {},
   "outputs": [
    {
     "output_type": "stream",
     "name": "stderr",
     "text": [
      "C:\\Users\\hasse\\anaconda3\\envs\\PythonAdv\\lib\\site-packages\\IPython\\core\\interactiveshell.py:3072: DtypeWarning: Columns (2) have mixed types.Specify dtype option on import or set low_memory=False.\n  interactivity=interactivity, compiler=compiler, result=result)\n"
     ]
    },
    {
     "output_type": "execute_result",
     "data": {
      "text/plain": [
       "          publicAddress    caseNumber precinct offense           description  \\\n",
       "0   0056Xx Lyndale Av S  MP2010000051        5    CSCR    Crim Sex Cond-Rape   \n",
       "1        0001Xx 62 St W  MP2010000099        5  ROBPAG       Robbery Per Agg   \n",
       "2         0039Xx 5 Av S  MP2010000373        3   BURGD  Burglary Of Dwelling   \n",
       "3  0013Xx Nicollet Av S  MP2010000305        1   ASLT2  Asslt W/Dngrs Weapon   \n",
       "4    0034Xx Oliver Av N  MP2010000229        4   BURGD  Burglary Of Dwelling   \n",
       "\n",
       "   ucrCode        lat        lon neighborhood incidentDate incidentTime  \n",
       "0      3.0  44.900291 -93.288239       Windom   2010/01/01        00:30  \n",
       "1      4.0  44.890636 -93.280041       Windom   2010/01/01        01:05  \n",
       "2      6.0  44.931448 -93.268841       Bryant   2010/01/01        04:18  \n",
       "3      5.0  44.970506 -93.277714  Loring Park   2010/01/01        03:00  \n",
       "4      6.0  45.017746 -93.306988      Folwell   2010/01/01        02:23  "
      ],
      "text/html": "<div>\n<style scoped>\n    .dataframe tbody tr th:only-of-type {\n        vertical-align: middle;\n    }\n\n    .dataframe tbody tr th {\n        vertical-align: top;\n    }\n\n    .dataframe thead th {\n        text-align: right;\n    }\n</style>\n<table border=\"1\" class=\"dataframe\">\n  <thead>\n    <tr style=\"text-align: right;\">\n      <th></th>\n      <th>publicAddress</th>\n      <th>caseNumber</th>\n      <th>precinct</th>\n      <th>offense</th>\n      <th>description</th>\n      <th>ucrCode</th>\n      <th>lat</th>\n      <th>lon</th>\n      <th>neighborhood</th>\n      <th>incidentDate</th>\n      <th>incidentTime</th>\n    </tr>\n  </thead>\n  <tbody>\n    <tr>\n      <th>0</th>\n      <td>0056Xx Lyndale Av S</td>\n      <td>MP2010000051</td>\n      <td>5</td>\n      <td>CSCR</td>\n      <td>Crim Sex Cond-Rape</td>\n      <td>3.0</td>\n      <td>44.900291</td>\n      <td>-93.288239</td>\n      <td>Windom</td>\n      <td>2010/01/01</td>\n      <td>00:30</td>\n    </tr>\n    <tr>\n      <th>1</th>\n      <td>0001Xx 62 St W</td>\n      <td>MP2010000099</td>\n      <td>5</td>\n      <td>ROBPAG</td>\n      <td>Robbery Per Agg</td>\n      <td>4.0</td>\n      <td>44.890636</td>\n      <td>-93.280041</td>\n      <td>Windom</td>\n      <td>2010/01/01</td>\n      <td>01:05</td>\n    </tr>\n    <tr>\n      <th>2</th>\n      <td>0039Xx 5 Av S</td>\n      <td>MP2010000373</td>\n      <td>3</td>\n      <td>BURGD</td>\n      <td>Burglary Of Dwelling</td>\n      <td>6.0</td>\n      <td>44.931448</td>\n      <td>-93.268841</td>\n      <td>Bryant</td>\n      <td>2010/01/01</td>\n      <td>04:18</td>\n    </tr>\n    <tr>\n      <th>3</th>\n      <td>0013Xx Nicollet Av S</td>\n      <td>MP2010000305</td>\n      <td>1</td>\n      <td>ASLT2</td>\n      <td>Asslt W/Dngrs Weapon</td>\n      <td>5.0</td>\n      <td>44.970506</td>\n      <td>-93.277714</td>\n      <td>Loring Park</td>\n      <td>2010/01/01</td>\n      <td>03:00</td>\n    </tr>\n    <tr>\n      <th>4</th>\n      <td>0034Xx Oliver Av N</td>\n      <td>MP2010000229</td>\n      <td>4</td>\n      <td>BURGD</td>\n      <td>Burglary Of Dwelling</td>\n      <td>6.0</td>\n      <td>45.017746</td>\n      <td>-93.306988</td>\n      <td>Folwell</td>\n      <td>2010/01/01</td>\n      <td>02:23</td>\n    </tr>\n  </tbody>\n</table>\n</div>"
     },
     "metadata": {},
     "execution_count": 2
    }
   ],
   "source": [
    "incidents = pd.read_csv(\"../incident_data/yearly_incident_data/all_incidents.csv\")\n",
    "incidents = incidents.dropna()\n",
    "incidents.head()"
   ]
  },
  {
   "cell_type": "code",
   "execution_count": 3,
   "metadata": {},
   "outputs": [
    {
     "output_type": "execute_result",
     "data": {
      "text/plain": [
       "          publicAddress    caseNumber precinct offense           description  \\\n",
       "0   0056Xx Lyndale Av S  MP2010000051        5    CSCR    Crim Sex Cond-Rape   \n",
       "1        0001Xx 62 St W  MP2010000099        5  ROBPAG       Robbery Per Agg   \n",
       "2         0039Xx 5 Av S  MP2010000373        3   BURGD  Burglary Of Dwelling   \n",
       "3  0013Xx Nicollet Av S  MP2010000305        1   ASLT2  Asslt W/Dngrs Weapon   \n",
       "4    0034Xx Oliver Av N  MP2010000229        4   BURGD  Burglary Of Dwelling   \n",
       "\n",
       "   ucrCode        lat        lon neighborhood incidentDate incidentTime  \\\n",
       "0      3.0  44.900291 -93.288239       Windom   2010-01-01        00:30   \n",
       "1      4.0  44.890636 -93.280041       Windom   2010-01-01        01:05   \n",
       "2      6.0  44.931448 -93.268841       Bryant   2010-01-01        04:18   \n",
       "3      5.0  44.970506 -93.277714  Loring Park   2010-01-01        03:00   \n",
       "4      6.0  45.017746 -93.306988      Folwell   2010-01-01        02:23   \n",
       "\n",
       "   month  weekday  day  \n",
       "0      1        4    1  \n",
       "1      1        4    1  \n",
       "2      1        4    1  \n",
       "3      1        4    1  \n",
       "4      1        4    1  "
      ],
      "text/html": "<div>\n<style scoped>\n    .dataframe tbody tr th:only-of-type {\n        vertical-align: middle;\n    }\n\n    .dataframe tbody tr th {\n        vertical-align: top;\n    }\n\n    .dataframe thead th {\n        text-align: right;\n    }\n</style>\n<table border=\"1\" class=\"dataframe\">\n  <thead>\n    <tr style=\"text-align: right;\">\n      <th></th>\n      <th>publicAddress</th>\n      <th>caseNumber</th>\n      <th>precinct</th>\n      <th>offense</th>\n      <th>description</th>\n      <th>ucrCode</th>\n      <th>lat</th>\n      <th>lon</th>\n      <th>neighborhood</th>\n      <th>incidentDate</th>\n      <th>incidentTime</th>\n      <th>month</th>\n      <th>weekday</th>\n      <th>day</th>\n    </tr>\n  </thead>\n  <tbody>\n    <tr>\n      <th>0</th>\n      <td>0056Xx Lyndale Av S</td>\n      <td>MP2010000051</td>\n      <td>5</td>\n      <td>CSCR</td>\n      <td>Crim Sex Cond-Rape</td>\n      <td>3.0</td>\n      <td>44.900291</td>\n      <td>-93.288239</td>\n      <td>Windom</td>\n      <td>2010-01-01</td>\n      <td>00:30</td>\n      <td>1</td>\n      <td>4</td>\n      <td>1</td>\n    </tr>\n    <tr>\n      <th>1</th>\n      <td>0001Xx 62 St W</td>\n      <td>MP2010000099</td>\n      <td>5</td>\n      <td>ROBPAG</td>\n      <td>Robbery Per Agg</td>\n      <td>4.0</td>\n      <td>44.890636</td>\n      <td>-93.280041</td>\n      <td>Windom</td>\n      <td>2010-01-01</td>\n      <td>01:05</td>\n      <td>1</td>\n      <td>4</td>\n      <td>1</td>\n    </tr>\n    <tr>\n      <th>2</th>\n      <td>0039Xx 5 Av S</td>\n      <td>MP2010000373</td>\n      <td>3</td>\n      <td>BURGD</td>\n      <td>Burglary Of Dwelling</td>\n      <td>6.0</td>\n      <td>44.931448</td>\n      <td>-93.268841</td>\n      <td>Bryant</td>\n      <td>2010-01-01</td>\n      <td>04:18</td>\n      <td>1</td>\n      <td>4</td>\n      <td>1</td>\n    </tr>\n    <tr>\n      <th>3</th>\n      <td>0013Xx Nicollet Av S</td>\n      <td>MP2010000305</td>\n      <td>1</td>\n      <td>ASLT2</td>\n      <td>Asslt W/Dngrs Weapon</td>\n      <td>5.0</td>\n      <td>44.970506</td>\n      <td>-93.277714</td>\n      <td>Loring Park</td>\n      <td>2010-01-01</td>\n      <td>03:00</td>\n      <td>1</td>\n      <td>4</td>\n      <td>1</td>\n    </tr>\n    <tr>\n      <th>4</th>\n      <td>0034Xx Oliver Av N</td>\n      <td>MP2010000229</td>\n      <td>4</td>\n      <td>BURGD</td>\n      <td>Burglary Of Dwelling</td>\n      <td>6.0</td>\n      <td>45.017746</td>\n      <td>-93.306988</td>\n      <td>Folwell</td>\n      <td>2010-01-01</td>\n      <td>02:23</td>\n      <td>1</td>\n      <td>4</td>\n      <td>1</td>\n    </tr>\n  </tbody>\n</table>\n</div>"
     },
     "metadata": {},
     "execution_count": 3
    }
   ],
   "source": [
    "incidents['incidentDate'] = pd.to_datetime(incidents['incidentDate'], format='%Y/%m/%d')\n",
    "incidents['month']= incidents['incidentDate'].dt.month \n",
    "incidents['weekday'] =  incidents['incidentDate'].dt.dayofweek\n",
    "incidents['day'] =  incidents['incidentDate'].dt.day\n",
    "incidents.head()"
   ]
  },
  {
   "cell_type": "code",
   "execution_count": 4,
   "metadata": {},
   "outputs": [
    {
     "output_type": "execute_result",
     "data": {
      "text/plain": [
       "          publicAddress    caseNumber precinct offense           description  \\\n",
       "0   0056Xx Lyndale Av S  MP2010000051        5    CSCR    Crim Sex Cond-Rape   \n",
       "1        0001Xx 62 St W  MP2010000099        5  ROBPAG       Robbery Per Agg   \n",
       "2         0039Xx 5 Av S  MP2010000373        3   BURGD  Burglary Of Dwelling   \n",
       "3  0013Xx Nicollet Av S  MP2010000305        1   ASLT2  Asslt W/Dngrs Weapon   \n",
       "4    0034Xx Oliver Av N  MP2010000229        4   BURGD  Burglary Of Dwelling   \n",
       "\n",
       "   ucrCode        lat        lon incidentDate incidentTime  ...  \\\n",
       "0      3.0  44.900291 -93.288239   2010-01-01        00:30  ...   \n",
       "1      4.0  44.890636 -93.280041   2010-01-01        01:05  ...   \n",
       "2      6.0  44.931448 -93.268841   2010-01-01        04:18  ...   \n",
       "3      5.0  44.970506 -93.277714   2010-01-01        03:00  ...   \n",
       "4      6.0  45.017746 -93.306988   2010-01-01        02:23  ...   \n",
       "\n",
       "   Ventura Village  Victory  Waite Park  Webber - Camden  Wenonah  \\\n",
       "0                0        0           0                0        0   \n",
       "1                0        0           0                0        0   \n",
       "2                0        0           0                0        0   \n",
       "3                0        0           0                0        0   \n",
       "4                0        0           0                0        0   \n",
       "\n",
       "   West Calhoun  Whittier  Willard - Hay  Windom  Windom Park  \n",
       "0             0         0              0       1            0  \n",
       "1             0         0              0       1            0  \n",
       "2             0         0              0       0            0  \n",
       "3             0         0              0       0            0  \n",
       "4             0         0              0       0            0  \n",
       "\n",
       "[5 rows x 101 columns]"
      ],
      "text/html": "<div>\n<style scoped>\n    .dataframe tbody tr th:only-of-type {\n        vertical-align: middle;\n    }\n\n    .dataframe tbody tr th {\n        vertical-align: top;\n    }\n\n    .dataframe thead th {\n        text-align: right;\n    }\n</style>\n<table border=\"1\" class=\"dataframe\">\n  <thead>\n    <tr style=\"text-align: right;\">\n      <th></th>\n      <th>publicAddress</th>\n      <th>caseNumber</th>\n      <th>precinct</th>\n      <th>offense</th>\n      <th>description</th>\n      <th>ucrCode</th>\n      <th>lat</th>\n      <th>lon</th>\n      <th>incidentDate</th>\n      <th>incidentTime</th>\n      <th>...</th>\n      <th>Ventura Village</th>\n      <th>Victory</th>\n      <th>Waite Park</th>\n      <th>Webber - Camden</th>\n      <th>Wenonah</th>\n      <th>West Calhoun</th>\n      <th>Whittier</th>\n      <th>Willard - Hay</th>\n      <th>Windom</th>\n      <th>Windom Park</th>\n    </tr>\n  </thead>\n  <tbody>\n    <tr>\n      <th>0</th>\n      <td>0056Xx Lyndale Av S</td>\n      <td>MP2010000051</td>\n      <td>5</td>\n      <td>CSCR</td>\n      <td>Crim Sex Cond-Rape</td>\n      <td>3.0</td>\n      <td>44.900291</td>\n      <td>-93.288239</td>\n      <td>2010-01-01</td>\n      <td>00:30</td>\n      <td>...</td>\n      <td>0</td>\n      <td>0</td>\n      <td>0</td>\n      <td>0</td>\n      <td>0</td>\n      <td>0</td>\n      <td>0</td>\n      <td>0</td>\n      <td>1</td>\n      <td>0</td>\n    </tr>\n    <tr>\n      <th>1</th>\n      <td>0001Xx 62 St W</td>\n      <td>MP2010000099</td>\n      <td>5</td>\n      <td>ROBPAG</td>\n      <td>Robbery Per Agg</td>\n      <td>4.0</td>\n      <td>44.890636</td>\n      <td>-93.280041</td>\n      <td>2010-01-01</td>\n      <td>01:05</td>\n      <td>...</td>\n      <td>0</td>\n      <td>0</td>\n      <td>0</td>\n      <td>0</td>\n      <td>0</td>\n      <td>0</td>\n      <td>0</td>\n      <td>0</td>\n      <td>1</td>\n      <td>0</td>\n    </tr>\n    <tr>\n      <th>2</th>\n      <td>0039Xx 5 Av S</td>\n      <td>MP2010000373</td>\n      <td>3</td>\n      <td>BURGD</td>\n      <td>Burglary Of Dwelling</td>\n      <td>6.0</td>\n      <td>44.931448</td>\n      <td>-93.268841</td>\n      <td>2010-01-01</td>\n      <td>04:18</td>\n      <td>...</td>\n      <td>0</td>\n      <td>0</td>\n      <td>0</td>\n      <td>0</td>\n      <td>0</td>\n      <td>0</td>\n      <td>0</td>\n      <td>0</td>\n      <td>0</td>\n      <td>0</td>\n    </tr>\n    <tr>\n      <th>3</th>\n      <td>0013Xx Nicollet Av S</td>\n      <td>MP2010000305</td>\n      <td>1</td>\n      <td>ASLT2</td>\n      <td>Asslt W/Dngrs Weapon</td>\n      <td>5.0</td>\n      <td>44.970506</td>\n      <td>-93.277714</td>\n      <td>2010-01-01</td>\n      <td>03:00</td>\n      <td>...</td>\n      <td>0</td>\n      <td>0</td>\n      <td>0</td>\n      <td>0</td>\n      <td>0</td>\n      <td>0</td>\n      <td>0</td>\n      <td>0</td>\n      <td>0</td>\n      <td>0</td>\n    </tr>\n    <tr>\n      <th>4</th>\n      <td>0034Xx Oliver Av N</td>\n      <td>MP2010000229</td>\n      <td>4</td>\n      <td>BURGD</td>\n      <td>Burglary Of Dwelling</td>\n      <td>6.0</td>\n      <td>45.017746</td>\n      <td>-93.306988</td>\n      <td>2010-01-01</td>\n      <td>02:23</td>\n      <td>...</td>\n      <td>0</td>\n      <td>0</td>\n      <td>0</td>\n      <td>0</td>\n      <td>0</td>\n      <td>0</td>\n      <td>0</td>\n      <td>0</td>\n      <td>0</td>\n      <td>0</td>\n    </tr>\n  </tbody>\n</table>\n<p>5 rows × 101 columns</p>\n</div>"
     },
     "metadata": {},
     "execution_count": 4
    }
   ],
   "source": [
    "one_hot = pd.get_dummies(incidents['neighborhood'])\n",
    "incidents = incidents.drop('neighborhood', axis=1)\n",
    "incidents =incidents.join(one_hot)\n",
    "incidents.head()"
   ]
  },
  {
   "cell_type": "code",
   "execution_count": 11,
   "metadata": {},
   "outputs": [
    {
     "output_type": "execute_result",
     "data": {
      "text/plain": [
       "  precinct  month  weekday  day  Armatage  Audubon Park  Bancroft  Beltrami  \\\n",
       "0        5      1        4    1         0             0         0         0   \n",
       "1        5      1        4    1         0             0         0         0   \n",
       "2        3      1        4    1         0             0         0         0   \n",
       "3        1      1        4    1         0             0         0         0   \n",
       "4        4      1        4    1         0             0         0         0   \n",
       "\n",
       "   Bottineau  Bryant  ...  Ventura Village  Victory  Waite Park  \\\n",
       "0          0       0  ...                0        0           0   \n",
       "1          0       0  ...                0        0           0   \n",
       "2          0       1  ...                0        0           0   \n",
       "3          0       0  ...                0        0           0   \n",
       "4          0       0  ...                0        0           0   \n",
       "\n",
       "   Webber - Camden  Wenonah  West Calhoun  Whittier  Willard - Hay  Windom  \\\n",
       "0                0        0             0         0              0       1   \n",
       "1                0        0             0         0              0       1   \n",
       "2                0        0             0         0              0       0   \n",
       "3                0        0             0         0              0       0   \n",
       "4                0        0             0         0              0       0   \n",
       "\n",
       "   Windom Park  \n",
       "0            0  \n",
       "1            0  \n",
       "2            0  \n",
       "3            0  \n",
       "4            0  \n",
       "\n",
       "[5 rows x 92 columns]"
      ],
      "text/html": "<div>\n<style scoped>\n    .dataframe tbody tr th:only-of-type {\n        vertical-align: middle;\n    }\n\n    .dataframe tbody tr th {\n        vertical-align: top;\n    }\n\n    .dataframe thead th {\n        text-align: right;\n    }\n</style>\n<table border=\"1\" class=\"dataframe\">\n  <thead>\n    <tr style=\"text-align: right;\">\n      <th></th>\n      <th>precinct</th>\n      <th>month</th>\n      <th>weekday</th>\n      <th>day</th>\n      <th>Armatage</th>\n      <th>Audubon Park</th>\n      <th>Bancroft</th>\n      <th>Beltrami</th>\n      <th>Bottineau</th>\n      <th>Bryant</th>\n      <th>...</th>\n      <th>Ventura Village</th>\n      <th>Victory</th>\n      <th>Waite Park</th>\n      <th>Webber - Camden</th>\n      <th>Wenonah</th>\n      <th>West Calhoun</th>\n      <th>Whittier</th>\n      <th>Willard - Hay</th>\n      <th>Windom</th>\n      <th>Windom Park</th>\n    </tr>\n  </thead>\n  <tbody>\n    <tr>\n      <th>0</th>\n      <td>5</td>\n      <td>1</td>\n      <td>4</td>\n      <td>1</td>\n      <td>0</td>\n      <td>0</td>\n      <td>0</td>\n      <td>0</td>\n      <td>0</td>\n      <td>0</td>\n      <td>...</td>\n      <td>0</td>\n      <td>0</td>\n      <td>0</td>\n      <td>0</td>\n      <td>0</td>\n      <td>0</td>\n      <td>0</td>\n      <td>0</td>\n      <td>1</td>\n      <td>0</td>\n    </tr>\n    <tr>\n      <th>1</th>\n      <td>5</td>\n      <td>1</td>\n      <td>4</td>\n      <td>1</td>\n      <td>0</td>\n      <td>0</td>\n      <td>0</td>\n      <td>0</td>\n      <td>0</td>\n      <td>0</td>\n      <td>...</td>\n      <td>0</td>\n      <td>0</td>\n      <td>0</td>\n      <td>0</td>\n      <td>0</td>\n      <td>0</td>\n      <td>0</td>\n      <td>0</td>\n      <td>1</td>\n      <td>0</td>\n    </tr>\n    <tr>\n      <th>2</th>\n      <td>3</td>\n      <td>1</td>\n      <td>4</td>\n      <td>1</td>\n      <td>0</td>\n      <td>0</td>\n      <td>0</td>\n      <td>0</td>\n      <td>0</td>\n      <td>1</td>\n      <td>...</td>\n      <td>0</td>\n      <td>0</td>\n      <td>0</td>\n      <td>0</td>\n      <td>0</td>\n      <td>0</td>\n      <td>0</td>\n      <td>0</td>\n      <td>0</td>\n      <td>0</td>\n    </tr>\n    <tr>\n      <th>3</th>\n      <td>1</td>\n      <td>1</td>\n      <td>4</td>\n      <td>1</td>\n      <td>0</td>\n      <td>0</td>\n      <td>0</td>\n      <td>0</td>\n      <td>0</td>\n      <td>0</td>\n      <td>...</td>\n      <td>0</td>\n      <td>0</td>\n      <td>0</td>\n      <td>0</td>\n      <td>0</td>\n      <td>0</td>\n      <td>0</td>\n      <td>0</td>\n      <td>0</td>\n      <td>0</td>\n    </tr>\n    <tr>\n      <th>4</th>\n      <td>4</td>\n      <td>1</td>\n      <td>4</td>\n      <td>1</td>\n      <td>0</td>\n      <td>0</td>\n      <td>0</td>\n      <td>0</td>\n      <td>0</td>\n      <td>0</td>\n      <td>...</td>\n      <td>0</td>\n      <td>0</td>\n      <td>0</td>\n      <td>0</td>\n      <td>0</td>\n      <td>0</td>\n      <td>0</td>\n      <td>0</td>\n      <td>0</td>\n      <td>0</td>\n    </tr>\n  </tbody>\n</table>\n<p>5 rows × 92 columns</p>\n</div>"
     },
     "metadata": {},
     "execution_count": 11
    }
   ],
   "source": [
    "selected_features = incidents.drop(['publicAddress', 'caseNumber', 'offense', 'description', 'lat', 'lon', 'incidentDate', 'incidentTime', 'ucrCode'], axis=1)\n",
    "\n",
    "selected_features.head()"
   ]
  },
  {
   "cell_type": "code",
   "execution_count": 12,
   "metadata": {},
   "outputs": [],
   "source": [
    "X = selected_features\n",
    "y = incidents['ucrCode']"
   ]
  },
  {
   "cell_type": "code",
   "execution_count": null,
   "metadata": {},
   "outputs": [],
   "source": [
    "# Start of Naive Bayes work"
   ]
  },
  {
   "cell_type": "code",
   "execution_count": 13,
   "metadata": {},
   "outputs": [],
   "source": [
    "X_train, X_test, y_train, y_test = train_test_split(X, y, test_size=0.2, random_state=42)"
   ]
  },
  {
   "cell_type": "code",
   "execution_count": 14,
   "metadata": {},
   "outputs": [
    {
     "output_type": "execute_result",
     "data": {
      "text/plain": [
       "MultinomialNB()"
      ]
     },
     "metadata": {},
     "execution_count": 14
    }
   ],
   "source": [
    "nb = MultinomialNB()\n",
    "nb.fit(X_train, y_train)"
   ]
  },
  {
   "cell_type": "code",
   "execution_count": 15,
   "metadata": {},
   "outputs": [
    {
     "output_type": "stream",
     "name": "stdout",
     "text": [
      "[7. 7. 7. ... 7. 7. 7.]\n"
     ]
    }
   ],
   "source": [
    "predictions = nb.predict(X_test)\n",
    "print(predictions)"
   ]
  },
  {
   "cell_type": "code",
   "execution_count": 16,
   "metadata": {},
   "outputs": [
    {
     "output_type": "execute_result",
     "data": {
      "text/plain": [
       "0.5471266390917892"
      ]
     },
     "metadata": {},
     "execution_count": 16
    }
   ],
   "source": [
    "from sklearn.metrics import accuracy_score\n",
    "accuracy_score(y_test, predictions)"
   ]
  },
  {
   "cell_type": "code",
   "execution_count": null,
   "metadata": {},
   "outputs": [],
   "source": []
  }
 ]
}